{
  "nbformat": 4,
  "nbformat_minor": 0,
  "metadata": {
    "colab": {
      "provenance": [],
      "collapsed_sections": [],
      "authorship_tag": "ABX9TyPRrR1wYCbWrQ0NO7wm7BQp",
      "include_colab_link": true
    },
    "kernelspec": {
      "name": "python3",
      "display_name": "Python 3"
    },
    "language_info": {
      "name": "python"
    }
  },
  "cells": [
    {
      "cell_type": "markdown",
      "metadata": {
        "id": "view-in-github",
        "colab_type": "text"
      },
      "source": [
        "<a href=\"https://colab.research.google.com/github/nico-edvai/challenges/blob/main/tp1/challenge_02.ipynb\" target=\"_parent\"><img src=\"https://colab.research.google.com/assets/colab-badge.svg\" alt=\"Open In Colab\"/></a>"
      ]
    },
    {
      "cell_type": "markdown",
      "source": [
        "![](https://github.com/nico-edvai/images/blob/main/header_edvai.jpg?raw=true)"
      ],
      "metadata": {
        "id": "qWWxTJIpR-Ij"
      }
    },
    {
      "cell_type": "markdown",
      "source": [
        "# Observemos lo que sucede cuando quiero ordenar una lista de str"
      ],
      "metadata": {
        "id": "bBpsEbycSF-V"
      }
    },
    {
      "cell_type": "code",
      "source": [
        "lst_palabras = ['Antonia','Mariel','Miguel','banana','anana','Gerardo','naranja','Sofía','Argentina']\n",
        "print(lst_palabras)"
      ],
      "metadata": {
        "colab": {
          "base_uri": "https://localhost:8080/"
        },
        "id": "FZUnautbSEl7",
        "outputId": "d864e47a-8778-401e-940a-fe8abe2525c6"
      },
      "execution_count": null,
      "outputs": [
        {
          "output_type": "stream",
          "name": "stdout",
          "text": [
            "['Antonia', 'Mariel', 'Miguel', 'banana', 'anana', 'Gerardo', 'naranja', 'Sofía', 'Argentina']\n"
          ]
        }
      ]
    },
    {
      "cell_type": "code",
      "source": [
        "lst_palabras.sort()"
      ],
      "metadata": {
        "id": "_EC2aWG3UM2f"
      },
      "execution_count": null,
      "outputs": []
    },
    {
      "cell_type": "code",
      "source": [
        "lst_palabras"
      ],
      "metadata": {
        "colab": {
          "base_uri": "https://localhost:8080/"
        },
        "id": "XV8WLOc4UXaf",
        "outputId": "34a60438-1aa3-475b-ec88-017638658531"
      },
      "execution_count": null,
      "outputs": [
        {
          "output_type": "execute_result",
          "data": {
            "text/plain": [
              "['Antonia',\n",
              " 'Argentina',\n",
              " 'Gerardo',\n",
              " 'Mariel',\n",
              " 'Miguel',\n",
              " 'Sofía',\n",
              " 'anana',\n",
              " 'banana',\n",
              " 'naranja']"
            ]
          },
          "metadata": {},
          "execution_count": 5
        }
      ]
    },
    {
      "cell_type": "markdown",
      "source": [
        "\n",
        "## Preguntas:\n",
        "1.   ¿Por qué los ordena de esa manera?😱 ¿podrías explicarlo?👨‍🏫👩‍🏫\n",
        "2.   ¿Python está mal? 🐍\n",
        "3.   ¿Te animas a ordenar la lista alfabéticamente manteniendo las minúsculas y mayúsculas?🔡🔠 Puedes crear tu propia función que lo resuelva\n",
        "\n",
        "\n",
        "\n",
        "\n",
        "\n"
      ],
      "metadata": {
        "id": "j2dY0RUeUiRA"
      }
    }
  ]
}